{
 "cells": [
  {
   "cell_type": "markdown",
   "id": "61fa5fbb",
   "metadata": {},
   "source": [
    "# WeatherPy"
   ]
  },
  {
   "cell_type": "code",
   "execution_count": 2,
   "id": "6b68fddb",
   "metadata": {},
   "outputs": [],
   "source": [
    "# Dependencies\n",
    "import pandas as pd\n",
    "import json\n",
    "from pprint import pprint\n",
    "import requests\n",
    "# from config import API_KEY_OPEN_WEATHER\n",
    "import os\n",
    "from dotenv import load_dotenv\n",
    "# Load .env enviroment variables into the notebook\n",
    "load_dotenv()\n",
    "# Get the API key from the environment variable and store as Python variable\n",
    "weather_api_key = os.getenv(\"API_KEY_OPEN_WEATHER\")"
   ]
  },
  {
   "cell_type": "code",
   "execution_count": 24,
   "id": "25eaa6dc",
   "metadata": {},
   "outputs": [
    {
     "data": {
      "text/html": [
       "<div>\n",
       "<style scoped>\n",
       "    .dataframe tbody tr th:only-of-type {\n",
       "        vertical-align: middle;\n",
       "    }\n",
       "\n",
       "    .dataframe tbody tr th {\n",
       "        vertical-align: top;\n",
       "    }\n",
       "\n",
       "    .dataframe thead th {\n",
       "        text-align: right;\n",
       "    }\n",
       "</style>\n",
       "<table border=\"1\" class=\"dataframe\">\n",
       "  <thead>\n",
       "    <tr style=\"text-align: right;\">\n",
       "      <th></th>\n",
       "      <th>rank</th>\n",
       "      <th>Name</th>\n",
       "      <th>Country</th>\n",
       "      <th>Population</th>\n",
       "      <th>Prev</th>\n",
       "      <th>Growth</th>\n",
       "    </tr>\n",
       "  </thead>\n",
       "  <tbody>\n",
       "    <tr>\n",
       "      <th>0</th>\n",
       "      <td>1</td>\n",
       "      <td>Tokyo</td>\n",
       "      <td>Japan</td>\n",
       "      <td>37339804</td>\n",
       "      <td>37393128</td>\n",
       "      <td>-0.0014</td>\n",
       "    </tr>\n",
       "    <tr>\n",
       "      <th>1</th>\n",
       "      <td>2</td>\n",
       "      <td>Delhi</td>\n",
       "      <td>India</td>\n",
       "      <td>31181376</td>\n",
       "      <td>30290936</td>\n",
       "      <td>0.0294</td>\n",
       "    </tr>\n",
       "    <tr>\n",
       "      <th>2</th>\n",
       "      <td>3</td>\n",
       "      <td>Shanghai</td>\n",
       "      <td>China</td>\n",
       "      <td>27795702</td>\n",
       "      <td>27058480</td>\n",
       "      <td>0.0272</td>\n",
       "    </tr>\n",
       "    <tr>\n",
       "      <th>3</th>\n",
       "      <td>4</td>\n",
       "      <td>Sao Paulo</td>\n",
       "      <td>Brazil</td>\n",
       "      <td>22237472</td>\n",
       "      <td>22043028</td>\n",
       "      <td>0.0088</td>\n",
       "    </tr>\n",
       "    <tr>\n",
       "      <th>4</th>\n",
       "      <td>5</td>\n",
       "      <td>Mexico City</td>\n",
       "      <td>Mexico</td>\n",
       "      <td>21918936</td>\n",
       "      <td>21782378</td>\n",
       "      <td>0.0063</td>\n",
       "    </tr>\n",
       "  </tbody>\n",
       "</table>\n",
       "</div>"
      ],
      "text/plain": [
       "   rank         Name Country  Population      Prev  Growth\n",
       "0     1        Tokyo   Japan    37339804  37393128 -0.0014\n",
       "1     2        Delhi   India    31181376  30290936  0.0294\n",
       "2     3     Shanghai   China    27795702  27058480  0.0272\n",
       "3     4    Sao Paulo  Brazil    22237472  22043028  0.0088\n",
       "4     5  Mexico City  Mexico    21918936  21782378  0.0063"
      ]
     },
     "execution_count": 24,
     "metadata": {},
     "output_type": "execute_result"
    }
   ],
   "source": [
    "# Get a list of city names\n",
    "city_data = pd.read_csv('./Resources/city_list.csv')\n",
    "city_data.head()"
   ]
  },
  {
   "cell_type": "code",
   "execution_count": 23,
   "id": "21210889",
   "metadata": {},
   "outputs": [
    {
     "data": {
      "text/html": [
       "<div>\n",
       "<style scoped>\n",
       "    .dataframe tbody tr th:only-of-type {\n",
       "        vertical-align: middle;\n",
       "    }\n",
       "\n",
       "    .dataframe tbody tr th {\n",
       "        vertical-align: top;\n",
       "    }\n",
       "\n",
       "    .dataframe thead th {\n",
       "        text-align: right;\n",
       "    }\n",
       "</style>\n",
       "<table border=\"1\" class=\"dataframe\">\n",
       "  <thead>\n",
       "    <tr style=\"text-align: right;\">\n",
       "      <th></th>\n",
       "      <th>Name</th>\n",
       "    </tr>\n",
       "  </thead>\n",
       "  <tbody>\n",
       "    <tr>\n",
       "      <th>0</th>\n",
       "      <td>Tokyo</td>\n",
       "    </tr>\n",
       "    <tr>\n",
       "      <th>1</th>\n",
       "      <td>Delhi</td>\n",
       "    </tr>\n",
       "    <tr>\n",
       "      <th>2</th>\n",
       "      <td>Shanghai</td>\n",
       "    </tr>\n",
       "    <tr>\n",
       "      <th>3</th>\n",
       "      <td>Sao Paulo</td>\n",
       "    </tr>\n",
       "    <tr>\n",
       "      <th>4</th>\n",
       "      <td>Mexico City</td>\n",
       "    </tr>\n",
       "  </tbody>\n",
       "</table>\n",
       "</div>"
      ],
      "text/plain": [
       "          Name\n",
       "0        Tokyo\n",
       "1        Delhi\n",
       "2     Shanghai\n",
       "3    Sao Paulo\n",
       "4  Mexico City"
      ]
     },
     "execution_count": 23,
     "metadata": {},
     "output_type": "execute_result"
    }
   ],
   "source": [
    "# Isolate the city name\n",
    "city_name = city_data[['Name']]\n",
    "city_name.head()"
   ]
  },
  {
   "cell_type": "code",
   "execution_count": 26,
   "id": "097ca7fc",
   "metadata": {},
   "outputs": [],
   "source": [
    "# Get a random sample of city names\n",
    "test_sample = city_name.sample(n=3)\n",
    "# city_name_sample = city_name.sample(n=500)"
   ]
  },
  {
   "cell_type": "code",
   "execution_count": 34,
   "id": "3507dd44",
   "metadata": {},
   "outputs": [
    {
     "data": {
      "text/html": [
       "<div>\n",
       "<style scoped>\n",
       "    .dataframe tbody tr th:only-of-type {\n",
       "        vertical-align: middle;\n",
       "    }\n",
       "\n",
       "    .dataframe tbody tr th {\n",
       "        vertical-align: top;\n",
       "    }\n",
       "\n",
       "    .dataframe thead th {\n",
       "        text-align: right;\n",
       "    }\n",
       "</style>\n",
       "<table border=\"1\" class=\"dataframe\">\n",
       "  <thead>\n",
       "    <tr style=\"text-align: right;\">\n",
       "      <th></th>\n",
       "      <th>Name</th>\n",
       "    </tr>\n",
       "  </thead>\n",
       "  <tbody>\n",
       "    <tr>\n",
       "      <th>0</th>\n",
       "      <td>Antwerp</td>\n",
       "    </tr>\n",
       "    <tr>\n",
       "      <th>1</th>\n",
       "      <td>Essen</td>\n",
       "    </tr>\n",
       "    <tr>\n",
       "      <th>2</th>\n",
       "      <td>Saratov</td>\n",
       "    </tr>\n",
       "  </tbody>\n",
       "</table>\n",
       "</div>"
      ],
      "text/plain": [
       "      Name\n",
       "0  Antwerp\n",
       "1    Essen\n",
       "2  Saratov"
      ]
     },
     "execution_count": 34,
     "metadata": {},
     "output_type": "execute_result"
    }
   ],
   "source": [
    "# Reset index and display the sample of city names\n",
    "test_sample = test_sample.reset_index(drop=True)\n",
    "test_sample"
   ]
  },
  {
   "cell_type": "code",
   "execution_count": 35,
   "id": "0c8552b8",
   "metadata": {},
   "outputs": [
    {
     "name": "stdout",
     "output_type": "stream",
     "text": [
      "http://api.openweathermap.org/data/2.5/weather?appid=a7f7414ef848ef9ac3ce7eb8d4b647fb&q=Antwerp&units=imperial\n"
     ]
    }
   ],
   "source": [
    "# Save config information\n",
    "url = \"http://api.openweathermap.org/data/2.5/weather?\"\n",
    "# city = \"Houston\"\n",
    "\n",
    "# Build query URL\n",
    "query_url = url + \"appid=\" + weather_api_key + \"&q=\" + test_sample\n",
    "query_url = f\"{url}appid={weather_api_key}&q={test_sample['Name'][0]}&units=imperial\"\n",
    "print(query_url)"
   ]
  },
  {
   "cell_type": "code",
   "execution_count": 36,
   "id": "a8b2fed6",
   "metadata": {},
   "outputs": [
    {
     "name": "stdout",
     "output_type": "stream",
     "text": [
      "The weather API responded with: {'coord': {'lon': 4.4035, 'lat': 51.2199}, 'weather': [{'id': 801, 'main': 'Clouds', 'description': 'few clouds', 'icon': '02d'}], 'base': 'stations', 'main': {'temp': 69.44, 'feels_like': 68.95, 'temp_min': 66.06, 'temp_max': 71.06, 'pressure': 1026, 'humidity': 61}, 'visibility': 10000, 'wind': {'speed': 5.99, 'deg': 44, 'gust': 14}, 'clouds': {'all': 20}, 'dt': 1629826740, 'sys': {'type': 2, 'id': 2006860, 'country': 'BE', 'sunrise': 1629780189, 'sunset': 1629830804}, 'timezone': 7200, 'id': 2803138, 'name': 'Antwerp', 'cod': 200}.\n",
      "----------------------------------------------------------------\n",
      "{'base': 'stations',\n",
      " 'clouds': {'all': 20},\n",
      " 'cod': 200,\n",
      " 'coord': {'lat': 51.2199, 'lon': 4.4035},\n",
      " 'dt': 1629826740,\n",
      " 'id': 2803138,\n",
      " 'main': {'feels_like': 68.95,\n",
      "          'humidity': 61,\n",
      "          'pressure': 1026,\n",
      "          'temp': 69.44,\n",
      "          'temp_max': 71.06,\n",
      "          'temp_min': 66.06},\n",
      " 'name': 'Antwerp',\n",
      " 'sys': {'country': 'BE',\n",
      "         'id': 2006860,\n",
      "         'sunrise': 1629780189,\n",
      "         'sunset': 1629830804,\n",
      "         'type': 2},\n",
      " 'timezone': 7200,\n",
      " 'visibility': 10000,\n",
      " 'weather': [{'description': 'few clouds',\n",
      "              'icon': '02d',\n",
      "              'id': 801,\n",
      "              'main': 'Clouds'}],\n",
      " 'wind': {'deg': 44, 'gust': 14, 'speed': 5.99}}\n"
     ]
    }
   ],
   "source": [
    "# Get weather data\n",
    "weather_response = requests.get(query_url)\n",
    "weather_json = weather_response.json()\n",
    "\n",
    "# Get the temperature from the response\n",
    "print(f\"The weather API responded with: {weather_json}.\")\n",
    "print(\"-\"*64)\n",
    "pprint(weather_json)"
   ]
  },
  {
   "cell_type": "code",
   "execution_count": 41,
   "id": "e81044e9",
   "metadata": {},
   "outputs": [
    {
     "name": "stdout",
     "output_type": "stream",
     "text": [
      "The temperature in Antwerp is 69.4 F and 20.8 C.\n"
     ]
    }
   ],
   "source": [
    "# Get temperature from JSON response\n",
    "temperature = weather_json[\"main\"][\"temp\"]\n",
    "\n",
    "# Report temperature\n",
    "print(f\"The temperature in {test_sample['Name'][0]} is {temperature:0.1f} F and {(temperature-32)*5/9:0.1f} C.\")"
   ]
  },
  {
   "cell_type": "code",
   "execution_count": null,
   "id": "a6ac5636",
   "metadata": {},
   "outputs": [],
   "source": []
  }
 ],
 "metadata": {
  "kernelspec": {
   "display_name": "Python 3",
   "language": "python",
   "name": "python3"
  },
  "language_info": {
   "codemirror_mode": {
    "name": "ipython",
    "version": 3
   },
   "file_extension": ".py",
   "mimetype": "text/x-python",
   "name": "python",
   "nbconvert_exporter": "python",
   "pygments_lexer": "ipython3",
   "version": "3.8.8"
  }
 },
 "nbformat": 4,
 "nbformat_minor": 5
}
