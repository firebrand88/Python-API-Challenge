{
 "cells": [
  {
   "cell_type": "markdown",
   "metadata": {},
   "source": [
    "# WeatherPy\n",
    "\n",
    "## Observations\n",
    "\n",
    "The first observation made from this data analysis is that the maximum temperature of the cities dataset is higher the closer the city is to the zero latitude line or equator.  This observation makes sense as the primary reason for higher temperatures at the equator is because that section of the planet is closer towards the sun than the poles are to the sun.\n",
    "\n",
    "The second observation is that for this time of year (August 2021), it can be observed that the maximum temperature of the cities occurs at slightly higher latitudes from the equator due to the summer solstice.  Conversely, temperatures for cities below the zero line of the equator are lower at this time of year due to the souther winter solstice.\n",
    "\n",
    "The third observation is that there is little to no correlation between a city's latitude and its humidity, cloudiness, or wind speed.  Humidity and cloudiness are probably more related to how close the city is to a water source such as an ocean, lake or other large body of water.  Wind speeds are probably more correlated with other natural phenomena such as global patterns of movement in the Earth's atmosphere, and whether the city is near mountains and has higher elevation, or is located in an open lower elevation plain.\n",
    "\n",
    "More detail on these observations is provided below under each graph figure."
   ]
  },
  {
   "cell_type": "code",
   "execution_count": 1,
   "metadata": {},
   "outputs": [],
   "source": [
    "# Dependencies and Setup\n",
    "import matplotlib.pyplot as plt\n",
    "import pandas as pd\n",
    "import numpy as np\n",
    "import requests\n",
    "import time\n",
    "from scipy.stats import linregress\n",
    "import math\n",
    "import os\n",
    "from dotenv import load_dotenv"
   ]
  },
  {
   "cell_type": "code",
   "execution_count": 2,
   "metadata": {},
   "outputs": [],
   "source": [
    "# API key setup\n",
    "load_dotenv()\n",
    "\n",
    "weather_api_key = os.getenv(\"API_KEY_OPEN_WEATHER\")"
   ]
  },
  {
   "cell_type": "code",
   "execution_count": 3,
   "metadata": {
    "scrolled": true
   },
   "outputs": [],
   "source": [
    "from citipy import citipy\n",
    "\n",
    "# Output File (CSV)\n",
    "output_data_file = \"output_data/cities.csv\"\n",
    "\n",
    "# Range of latitudes and longitudes\n",
    "lat_range = (-90, 90)\n",
    "lng_range = (-180, 180)"
   ]
  },
  {
   "cell_type": "markdown",
   "metadata": {},
   "source": [
    "## Generate Cities List"
   ]
  },
  {
   "cell_type": "code",
   "execution_count": 4,
   "metadata": {},
   "outputs": [
    {
     "data": {
      "text/plain": [
       "633"
      ]
     },
     "execution_count": 4,
     "metadata": {},
     "output_type": "execute_result"
    }
   ],
   "source": [
    "# List for holding lat_lngs and cities\n",
    "lat_lngs = []\n",
    "cities = []\n",
    "\n",
    "# Create a set of random lat and lng combinations\n",
    "lats = np.random.uniform(lat_range[0], lat_range[1], size=1500)\n",
    "lngs = np.random.uniform(lng_range[0], lng_range[1], size=1500)\n",
    "lat_lngs = zip(lats, lngs)\n",
    "\n",
    "# Identify nearest city for each lat, lng combination\n",
    "for lat_lng in lat_lngs:\n",
    "    city = citipy.nearest_city(lat_lng[0], lat_lng[1]).city_name\n",
    "    \n",
    "    # If the city is unique, then add it to our cities list\n",
    "    if city not in cities:\n",
    "        cities.append(city)\n",
    "\n",
    "# Print the city count to confirm sufficient count\n",
    "len(cities)"
   ]
  },
  {
   "cell_type": "code",
   "execution_count": 5,
   "metadata": {},
   "outputs": [
    {
     "data": {
      "text/html": [
       "<div>\n",
       "<style scoped>\n",
       "    .dataframe tbody tr th:only-of-type {\n",
       "        vertical-align: middle;\n",
       "    }\n",
       "\n",
       "    .dataframe tbody tr th {\n",
       "        vertical-align: top;\n",
       "    }\n",
       "\n",
       "    .dataframe thead th {\n",
       "        text-align: right;\n",
       "    }\n",
       "</style>\n",
       "<table border=\"1\" class=\"dataframe\">\n",
       "  <thead>\n",
       "    <tr style=\"text-align: right;\">\n",
       "      <th></th>\n",
       "      <th>Name</th>\n",
       "    </tr>\n",
       "  </thead>\n",
       "  <tbody>\n",
       "    <tr>\n",
       "      <th>628</th>\n",
       "      <td>laufen</td>\n",
       "    </tr>\n",
       "    <tr>\n",
       "      <th>629</th>\n",
       "      <td>batagay-alyta</td>\n",
       "    </tr>\n",
       "    <tr>\n",
       "      <th>630</th>\n",
       "      <td>abha</td>\n",
       "    </tr>\n",
       "    <tr>\n",
       "      <th>631</th>\n",
       "      <td>halifax</td>\n",
       "    </tr>\n",
       "    <tr>\n",
       "      <th>632</th>\n",
       "      <td>passo de camaragibe</td>\n",
       "    </tr>\n",
       "  </tbody>\n",
       "</table>\n",
       "</div>"
      ],
      "text/plain": [
       "                    Name\n",
       "628               laufen\n",
       "629        batagay-alyta\n",
       "630                 abha\n",
       "631              halifax\n",
       "632  passo de camaragibe"
      ]
     },
     "execution_count": 5,
     "metadata": {},
     "output_type": "execute_result"
    }
   ],
   "source": [
    "city_name = pd.DataFrame(cities,columns=['Name'])\n",
    "city_name.tail()"
   ]
  },
  {
   "cell_type": "markdown",
   "metadata": {},
   "source": [
    "### Perform API Calls\n",
    "* Perform a weather check on each city using a series of successive API calls.\n",
    "* Include a print log of each city as it'sbeing processed (with the city number and city name).\n"
   ]
  },
  {
   "cell_type": "code",
   "execution_count": 6,
   "metadata": {},
   "outputs": [],
   "source": [
    "# Build url for queries\n",
    "base_url = \"http://api.openweathermap.org/data/2.5/weather?\""
   ]
  },
  {
   "cell_type": "code",
   "execution_count": null,
   "metadata": {
    "scrolled": true
   },
   "outputs": [
    {
     "name": "stdout",
     "output_type": "stream",
     "text": [
      "Beginning Data Retrieval\n",
      "--------------------------------\n",
      "Processing Record 1 of Set 1 | #0, roma\n",
      "Processing Record 2 of Set 1 | #1, tautira\n",
      "Processing Record 3 of Set 1 | #2, victoria\n",
      "Processing Record 4 of Set 1 | #3, antalya\n",
      "Processing Record 5 of Set 1 | #4, san cristobal\n",
      "Processing Record 6 of Set 1 | #5, san quintin\n",
      "Processing Record 7 of Set 1 | #6, avarua\n",
      "Processing Record 8 of Set 1 | #7, zhanakorgan\n",
      "Processing Record 9 of Set 1 | #8, aklavik\n",
      "Processing Record 10 of Set 1 | #9, morros\n",
      "Processing Record 11 of Set 1 | #10, albany\n",
      "Processing Record 12 of Set 1 | #11, port macquarie\n",
      "Processing Record 13 of Set 1 | #12, nadym\n",
      "Processing Record 14 of Set 1 | #13, qaanaaq\n",
      "Processing Record 15 of Set 1 | #14, meulaboh\n",
      "Processing Record 16 of Set 1 | #15, semey\n",
      "Processing Record 17 of Set 1 | #16, ushuaia\n",
      "Processing Record 18 of Set 1 | #17, quelimane\n",
      "Processing Record 19 of Set 1 | #18, inirida\n",
      "Processing Record 20 of Set 1 | #19, mataura\n",
      "Processing Record 21 of Set 1 | #20, vaini\n",
      "Processing Record 22 of Set 1 | #21, butaritari\n",
      "Processing Record 23 of Set 1 | #22, upernavik\n",
      "Processing Record 24 of Set 1 | #23, matara\n",
      "Processing Record 25 of Set 1 | #24, nola\n",
      "Processing Record 26 of Set 1 | #25, mount gambier\n",
      "Processing Record 27 of Set 1 | #26, carnarvon\n",
      "Processing Record 28 of Set 1 | #27, samusu\n",
      "Processing Record 29 of Set 1 | #28, cumberland\n",
      "Processing Record 30 of Set 1 | #29, bluff\n",
      "Processing Record 31 of Set 1 | #30, puerto madryn\n",
      "Processing Record 32 of Set 1 | #31, grindavik\n",
      "Processing Record 33 of Set 1 | #32, yulara\n",
      "Processing Record 34 of Set 1 | #33, felidhoo\n",
      "Processing Record 35 of Set 1 | #34, sisimiut\n",
      "Processing Record 36 of Set 1 | #35, soyo\n",
      "Processing Record 37 of Set 1 | #36, chokurdakh\n",
      "Processing Record 38 of Set 1 | #37, padang\n",
      "Processing Record 39 of Set 1 | #38, alice springs\n",
      "Processing Record 40 of Set 1 | #39, severo-kurilsk\n",
      "Processing Record 41 of Set 1 | #40, gimli\n",
      "Processing Record 42 of Set 1 | #41, cherskiy\n",
      "Processing Record 43 of Set 1 | #42, villa union\n",
      "Processing Record 44 of Set 1 | #43, nikolskoye\n",
      "Processing Record 45 of Set 1 | #44, thompson\n",
      "Processing Record 46 of Set 1 | #45, paramirim\n",
      "Processing Record 47 of Set 1 | #46, vaitupu\n",
      "Processing Record 48 of Set 1 | #47, tasiilaq\n",
      "Processing Record 49 of Set 1 | #48, mys shmidta\n",
      "Processing Record 50 of Set 1 | #49, bathsheba\n",
      "Processing Record 1 of Set 2 | #51, punta arenas\n",
      "Processing Record 2 of Set 2 | #52, puerto ayora\n",
      "Processing Record 3 of Set 2 | #53, hokitika\n",
      "Processing Record 4 of Set 2 | #54, east london\n",
      "Processing Record 5 of Set 2 | #55, deniliquin\n",
      "Processing Record 6 of Set 2 | #56, antofagasta\n",
      "Processing Record 7 of Set 2 | #57, jamestown\n",
      "Processing Record 8 of Set 2 | #58, port alfred\n",
      "Processing Record 9 of Set 2 | #59, aksarka\n",
      "Processing Record 10 of Set 2 | #60, atuona\n",
      "Processing Record 11 of Set 2 | #61, busselton\n",
      "Processing Record 12 of Set 2 | #62, ozernovskiy\n",
      "Processing Record 13 of Set 2 | #63, cidreira\n",
      "Processing Record 14 of Set 2 | #64, hambantota\n",
      "Processing Record 15 of Set 2 | #65, rikitea\n",
      "Processing Record 16 of Set 2 | #66, husavik\n",
      "Processing Record 17 of Set 2 | #67, saint george\n",
      "Processing Record 18 of Set 2 | #68, ndjole\n",
      "Processing Record 19 of Set 2 | #69, cape town\n",
      "Processing Record 20 of Set 2 | #70, kimbe\n",
      "Processing Record 21 of Set 2 | #71, talnakh\n",
      "Processing Record 22 of Set 2 | #72, hami\n",
      "Processing Record 23 of Set 2 | #73, khatanga\n",
      "Processing Record 24 of Set 2 | #74, bredasdorp\n",
      "Processing Record 25 of Set 2 | #75, esperance\n",
      "Processing Record 26 of Set 2 | #76, ilulissat\n",
      "Processing Record 27 of Set 2 | #77, belmonte\n",
      "Processing Record 28 of Set 2 | #78, banjar\n",
      "Processing Record 29 of Set 2 | #79, new norfolk\n",
      "Processing Record 30 of Set 2 | #80, lagoa\n",
      "Processing Record 31 of Set 2 | #81, tutoia\n",
      "Processing Record 32 of Set 2 | #82, richards bay\n",
      "Processing Record 33 of Set 2 | #83, namibe\n",
      "Processing Record 34 of Set 2 | #84, carutapera\n",
      "Processing Record 35 of Set 2 | #85, adeje\n",
      "Processing Record 36 of Set 2 | #86, hermanus\n",
      "Processing Record 37 of Set 2 | #87, georgetown\n",
      "Processing Record 38 of Set 2 | #88, kwekwe\n",
      "Processing Record 39 of Set 2 | #89, kerrville\n",
      "Processing Record 40 of Set 2 | #90, bubaque\n",
      "Processing Record 41 of Set 2 | #91, kurilsk\n",
      "Processing Record 42 of Set 2 | #92, sataua\n",
      "Processing Record 43 of Set 2 | #93, longyearbyen\n",
      "Processing Record 44 of Set 2 | #94, alofi\n",
      "Processing Record 45 of Set 2 | #95, chagda\n",
      "Processing Record 46 of Set 2 | #96, borogontsy\n",
      "Processing Record 47 of Set 2 | #97, lang son\n",
      "Processing Record 48 of Set 2 | #98, bandarbeyla\n",
      "Processing Record 49 of Set 2 | #99, yellowknife\n",
      "Processing Record 50 of Set 2 | #100, mar del plata\n",
      "Processing Record 1 of Set 3 | #102, anadyr\n",
      "Processing Record 2 of Set 3 | #103, pisco\n",
      "Processing Record 3 of Set 3 | #104, jalor\n",
      "Processing Record 4 of Set 3 | #105, tulun\n",
      "Processing Record 5 of Set 3 | #106, rawlins\n",
      "Processing Record 6 of Set 3 | #107, roald\n",
      "Processing Record 7 of Set 3 | #108, chakia\n",
      "Processing Record 8 of Set 3 | #109, te anau\n",
      "Processing Record 9 of Set 3 | #110, khash\n",
      "Processing Record 10 of Set 3 | #111, ribeira grande\n",
      "Processing Record 11 of Set 3 | #112, rocha\n",
      "Processing Record 12 of Set 3 | #113, barrow\n",
      "Processing Record 13 of Set 3 | #114, ponta do sol\n",
      "Processing Record 14 of Set 3 | #115, tazovskiy\n",
      "Processing Record 15 of Set 3 | #116, bridlington\n",
      "Processing Record 16 of Set 3 | #117, hilo\n",
      "Processing Record 17 of Set 3 | #118, nanortalik\n",
      "Processing Record 18 of Set 3 | #119, port lincoln\n",
      "Processing Record 19 of Set 3 | #120, kahului\n",
      "Processing Record 20 of Set 3 | #121, pokaran\n",
      "Processing Record 21 of Set 3 | #122, arraial do cabo\n",
      "Processing Record 22 of Set 3 | #123, kapaa\n",
      "Processing Record 23 of Set 3 | #124, apatity\n",
      "Processing Record 24 of Set 3 | #125, eureka\n",
      "Processing Record 25 of Set 3 | #126, chuy\n",
      "Processing Record 26 of Set 3 | #127, cabedelo\n",
      "Processing Record 27 of Set 3 | #128, amderma\n",
      "Processing Record 28 of Set 3 | #129, zelino\n",
      "Processing Record 29 of Set 3 | #130, daru\n",
      "Processing Record 30 of Set 3 | #131, los reyes\n",
      "Processing Record 31 of Set 3 | #132, salalah\n",
      "Processing Record 32 of Set 3 | #133, grand river south east\n",
      "Processing Record 33 of Set 3 | #134, port blair\n",
      "Processing Record 34 of Set 3 | #135, boffa\n",
      "Processing Record 35 of Set 3 | #136, port hawkesbury\n",
      "Processing Record 36 of Set 3 | #137, sarishabari\n",
      "Processing Record 37 of Set 3 | #138, gummidipundi\n",
      "Processing Record 38 of Set 3 | #139, pacific grove\n",
      "Processing Record 39 of Set 3 | #140, shankargarh\n",
      "Processing Record 40 of Set 3 | #141, chumikan\n",
      "Processing Record 41 of Set 3 | #142, moerai\n",
      "Processing Record 42 of Set 3 | #143, gurlan\n",
      "Processing Record 43 of Set 3 | #144, turayf\n",
      "Processing Record 44 of Set 3 | #145, hovd\n",
      "Processing Record 45 of Set 3 | #146, tselinnoye\n",
      "Processing Record 46 of Set 3 | #147, pueblo\n",
      "Processing Record 47 of Set 3 | #148, lata\n",
      "Processing Record 48 of Set 3 | #149, ancud\n",
      "Processing Record 49 of Set 3 | #150, saint-augustin\n",
      "Processing Record 50 of Set 3 | #151, wilhelmsburg\n",
      "Processing Record 1 of Set 4 | #153, taolanaro\n",
      "Processing Record 2 of Set 4 | #154, bethel\n",
      "Processing Record 3 of Set 4 | #155, medicine hat\n",
      "Processing Record 4 of Set 4 | #156, pingyin\n",
      "Processing Record 5 of Set 4 | #157, barentsburg\n",
      "Processing Record 6 of Set 4 | #158, bogale\n",
      "Processing Record 7 of Set 4 | #159, balsas\n",
      "Processing Record 8 of Set 4 | #160, nanyang\n",
      "Processing Record 9 of Set 4 | #161, kristinehamn\n",
      "Processing Record 10 of Set 4 | #162, dergachi\n",
      "Processing Record 11 of Set 4 | #163, mungwi\n",
      "Processing Record 12 of Set 4 | #164, tura\n",
      "Processing Record 13 of Set 4 | #165, pozo colorado\n",
      "Processing Record 14 of Set 4 | #166, fare\n",
      "Processing Record 15 of Set 4 | #167, solnechnyy\n",
      "Processing Record 16 of Set 4 | #168, klaksvik\n",
      "Processing Record 17 of Set 4 | #169, geraldton\n",
      "Processing Record 18 of Set 4 | #170, tsihombe\n",
      "Processing Record 19 of Set 4 | #171, kodiak\n",
      "Processing Record 20 of Set 4 | #172, buala\n",
      "Processing Record 21 of Set 4 | #173, atar\n",
      "Processing Record 22 of Set 4 | #174, boyolangu\n",
      "Processing Record 23 of Set 4 | #175, nizhneyansk\n",
      "Processing Record 24 of Set 4 | #176, kruisfontein\n",
      "Processing Record 25 of Set 4 | #177, abu jubayhah\n",
      "Processing Record 26 of Set 4 | #178, zonguldak\n"
     ]
    },
    {
     "name": "stdout",
     "output_type": "stream",
     "text": [
      "Processing Record 27 of Set 4 | #179, gra liyia\n",
      "Processing Record 28 of Set 4 | #180, qaqortoq\n",
      "Processing Record 29 of Set 4 | #181, samfya\n",
      "Processing Record 30 of Set 4 | #182, ravar\n",
      "Processing Record 31 of Set 4 | #183, palembang\n",
      "Processing Record 32 of Set 4 | #184, nalut\n",
      "Processing Record 33 of Set 4 | #185, huazolotitlan\n",
      "Processing Record 34 of Set 4 | #186, mahebourg\n",
      "Processing Record 35 of Set 4 | #187, sahuaripa\n",
      "Processing Record 36 of Set 4 | #188, rehoboth\n",
      "Processing Record 37 of Set 4 | #189, umzimvubu\n",
      "Processing Record 38 of Set 4 | #190, luderitz\n",
      "Processing Record 39 of Set 4 | #191, nuevo progreso\n",
      "Processing Record 40 of Set 4 | #192, san patricio\n",
      "Processing Record 41 of Set 4 | #193, porto novo\n",
      "Processing Record 42 of Set 4 | #194, pevek\n",
      "Processing Record 43 of Set 4 | #195, port-gentil\n",
      "Processing Record 44 of Set 4 | #196, loralai\n",
      "Processing Record 45 of Set 4 | #197, la ronge\n",
      "Processing Record 46 of Set 4 | #198, mumford\n",
      "Processing Record 47 of Set 4 | #199, hobart\n",
      "Processing Record 48 of Set 4 | #200, norman wells\n",
      "Processing Record 49 of Set 4 | #201, ust-kamchatsk\n",
      "Processing Record 50 of Set 4 | #202, rumonge\n",
      "Processing Record 1 of Set 5 | #204, linjiang\n",
      "Processing Record 2 of Set 5 | #205, dalvik\n",
      "Processing Record 3 of Set 5 | #206, vallenar\n",
      "Processing Record 4 of Set 5 | #207, dikson\n",
      "Processing Record 5 of Set 5 | #208, saint anthony\n",
      "Processing Record 6 of Set 5 | #209, umba\n",
      "Processing Record 7 of Set 5 | #210, karaul\n",
      "Processing Record 8 of Set 5 | #211, cabo san lucas\n",
      "Processing Record 9 of Set 5 | #212, soe\n",
      "Processing Record 10 of Set 5 | #213, marawi\n",
      "Processing Record 11 of Set 5 | #214, touros\n",
      "Processing Record 12 of Set 5 | #215, poso\n",
      "Processing Record 13 of Set 5 | #216, bairiki\n",
      "Processing Record 14 of Set 5 | #217, ixtapa\n",
      "Processing Record 15 of Set 5 | #218, nicoya\n",
      "Processing Record 16 of Set 5 | #219, tuatapere\n",
      "Processing Record 17 of Set 5 | #220, skagen\n",
      "Processing Record 18 of Set 5 | #221, yumen\n",
      "Processing Record 19 of Set 5 | #222, irbeyskoye\n",
      "Processing Record 20 of Set 5 | #223, hofn\n",
      "Processing Record 21 of Set 5 | #224, bambous virieux\n",
      "Processing Record 22 of Set 5 | #225, slave lake\n",
      "Processing Record 23 of Set 5 | #226, camacha\n",
      "Processing Record 24 of Set 5 | #227, aranos\n",
      "Processing Record 25 of Set 5 | #228, yangambi\n",
      "Processing Record 26 of Set 5 | #229, crailsheim\n",
      "Processing Record 27 of Set 5 | #230, gravelbourg\n",
      "Processing Record 28 of Set 5 | #231, yeppoon\n",
      "Processing Record 29 of Set 5 | #232, bousse\n",
      "Processing Record 30 of Set 5 | #233, kitgum\n",
      "Processing Record 31 of Set 5 | #234, lavrentiya\n",
      "Processing Record 32 of Set 5 | #235, abnub\n",
      "Processing Record 33 of Set 5 | #236, sumbawa\n",
      "Processing Record 34 of Set 5 | #237, mizpe ramon\n",
      "Processing Record 35 of Set 5 | #238, lompoc\n",
      "Processing Record 36 of Set 5 | #239, kushima\n",
      "Processing Record 37 of Set 5 | #240, khovu-aksy\n",
      "Processing Record 38 of Set 5 | #241, hithadhoo\n",
      "Processing Record 39 of Set 5 | #242, altamira\n",
      "Processing Record 40 of Set 5 | #243, chapais\n",
      "Processing Record 41 of Set 5 | #244, rio grande\n",
      "Processing Record 42 of Set 5 | #245, imeni zhelyabova\n",
      "Processing Record 43 of Set 5 | #246, tricase\n",
      "Processing Record 44 of Set 5 | #247, pakwach\n",
      "Processing Record 45 of Set 5 | #248, presidencia roque saenz pena\n",
      "Processing Record 46 of Set 5 | #249, xiongzhou\n",
      "Processing Record 47 of Set 5 | #250, sinjar\n",
      "Processing Record 48 of Set 5 | #251, inuvik\n",
      "Processing Record 49 of Set 5 | #252, bauchi\n",
      "Processing Record 50 of Set 5 | #253, sibu\n",
      "Processing Record 1 of Set 6 | #255, mnogovershinnyy\n",
      "Processing Record 2 of Set 6 | #256, capinzal\n",
      "Processing Record 3 of Set 6 | #257, sola\n",
      "Processing Record 4 of Set 6 | #258, coquimbo\n",
      "Processing Record 5 of Set 6 | #259, brandon\n",
      "Processing Record 6 of Set 6 | #260, fairbanks\n",
      "Processing Record 7 of Set 6 | #261, rauma\n",
      "Processing Record 8 of Set 6 | #262, cookeville\n",
      "Processing Record 9 of Set 6 | #263, craig\n",
      "Processing Record 10 of Set 6 | #264, labytnangi\n",
      "Processing Record 11 of Set 6 | #265, illoqqortoormiut\n",
      "Processing Record 12 of Set 6 | #266, arman\n",
      "Processing Record 13 of Set 6 | #267, zyryanka\n",
      "Processing Record 14 of Set 6 | #268, abalak\n",
      "Processing Record 15 of Set 6 | #269, saleaula\n",
      "Processing Record 16 of Set 6 | #270, dalianwan\n",
      "Processing Record 17 of Set 6 | #271, vilyuysk\n",
      "Processing Record 18 of Set 6 | #272, udachnyy\n",
      "Processing Record 19 of Set 6 | #273, oruro\n"
     ]
    }
   ],
   "source": [
    "print(\"Beginning Data Retrieval\")\n",
    "print(\"-\"*32)\n",
    "set_number = 1\n",
    "record = 1\n",
    "data = []\n",
    "\n",
    "for x in range(len(city_name)):\n",
    "    if record > 50:\n",
    "        record = 1\n",
    "        set_number += 1\n",
    "    else:\n",
    "        print(f\"Processing Record {record} of Set {set_number} | #{x}, {city_name['Name'][x]}\")\n",
    "        query_url = f\"{base_url}appid={weather_api_key}&q={city_name['Name'][x]}&units=imperial\"\n",
    "        weather = requests.get(query_url).json()\n",
    "        data.append(weather)\n",
    "        record += 1\n",
    "\n",
    "print(\"-\"*32)\n",
    "print(\"Data Retrieval Complete\")\n",
    "print(\"-\"*32)"
   ]
  },
  {
   "cell_type": "markdown",
   "metadata": {},
   "source": [
    "### Convert Raw Data to DataFrame\n",
    "* Export the city data into a .csv.\n",
    "* Display the DataFrame"
   ]
  },
  {
   "cell_type": "code",
   "execution_count": null,
   "metadata": {},
   "outputs": [],
   "source": [
    "import json\n",
    "\n",
    "print(json.dumps(data,indent=4,sort_keys=True))"
   ]
  },
  {
   "cell_type": "code",
   "execution_count": null,
   "metadata": {},
   "outputs": [],
   "source": [
    "from datetime import datetime # This is needed to get the timestamp for plotting purposes\n",
    "\n",
    "dataframe = []\n",
    "\n",
    "for x in range(len(data)):\n",
    "    if data[x]['cod']=='404':\n",
    "        dataframe.append([city_name['Name'][x]])\n",
    "    else:\n",
    "        dataframe.append([city_name['Name'][x],\n",
    "                         data[x]['coord']['lat'],\n",
    "                         data[x]['coord']['lon'],\n",
    "                         data[x]['main']['temp_max'],\n",
    "                         data[x]['main']['humidity'],\n",
    "                         data[x]['clouds']['all'],\n",
    "                         data[x]['wind']['speed'],\n",
    "                         data[x]['sys']['country'],\n",
    "                         data[x]['dt']])\n",
    "\n",
    "df = pd.DataFrame(dataframe, columns =['Name','Latitude','Longitude',\n",
    "                                       'Max_Temp','Humidity',\n",
    "                                       'Cloudiness','Wind_Speed',\n",
    "                                       'Country','Date'])\n",
    "df_clean = df.dropna() # remove NaN values\n",
    "df_clean = df_clean.reset_index(drop=True)\n",
    "df_clean.to_csv('../output_data/weather_data.csv')\n",
    "timestamp = datetime.now()\n",
    "timestampstr = timestamp.strftime(\"%m/%d/%y\") # this will be used for plotting\n",
    "df_clean.tail()"
   ]
  },
  {
   "cell_type": "markdown",
   "metadata": {},
   "source": [
    "## Inspect the data and remove the cities where the humidity > 100%.\n",
    "----\n",
    "Skip this step if there are no cities that have humidity > 100%. "
   ]
  },
  {
   "cell_type": "code",
   "execution_count": null,
   "metadata": {},
   "outputs": [],
   "source": [
    "#  Get the indices of cities that have humidity over 100%.\n",
    "humidity_check = df_clean[(df_clean['Humidity']>100)]\n",
    "humid_count = humidity_check.Humidity.count()\n",
    "if humid_count > 0:\n",
    "    print(f\"There are {humid_count} cities with humidity greater than 100%.\")\n",
    "    df_clean = df_clean[(df_clean['Humidity']<=100)]\n",
    "else:\n",
    "    print(\"There are no cities with humidity greater than 100%.\")"
   ]
  },
  {
   "cell_type": "markdown",
   "metadata": {},
   "source": [
    "## Plotting the Data\n",
    "* Use proper labeling of the plots using plot titles (including date of analysis) and axes labels.\n",
    "* Save the plotted figures as .pngs."
   ]
  },
  {
   "cell_type": "markdown",
   "metadata": {},
   "source": [
    "## Fig 1. Latitude vs. Temperature Plot"
   ]
  },
  {
   "cell_type": "code",
   "execution_count": null,
   "metadata": {},
   "outputs": [],
   "source": [
    "x = df_clean['Latitude']\n",
    "y = df_clean['Max_Temp']\n",
    "plt.title(f\"City Latitude vs. Max Temperature ({timestampstr})\")\n",
    "plt.xlabel(\"Latitude\")\n",
    "plt.ylabel(\"Max Temperature (F)\")\n",
    "plt.grid()\n",
    "plt.scatter(x,y,edgecolor=\"black\")\n",
    "plt.savefig('../output_data/fig1_lat_v_temp.png')\n",
    "plt.show()"
   ]
  },
  {
   "cell_type": "markdown",
   "metadata": {
    "scrolled": true
   },
   "source": [
    "Figure 1 shows the relationship between the max temperature and latitude for the date specified.\n",
    "\n",
    "As can be seen, latitudes closer towards zero are generally higher, however we should add that at the current date of 8/27/2021, there is a lean towards higher temperatures at slightly higher latitudes due to the summer soltice."
   ]
  },
  {
   "cell_type": "markdown",
   "metadata": {},
   "source": [
    "## Fig 2. Latitude vs. Humidity Plot"
   ]
  },
  {
   "cell_type": "code",
   "execution_count": null,
   "metadata": {},
   "outputs": [],
   "source": [
    "x = df_clean['Latitude']\n",
    "y = df_clean['Humidity']\n",
    "plt.title(f\"City Latitude vs. Humidity ({timestampstr})\")\n",
    "plt.xlabel(\"Latitude\")\n",
    "plt.ylabel(\"Humidity (%)\")\n",
    "plt.grid()\n",
    "plt.scatter(x,y,edgecolor=\"black\")\n",
    "plt.savefig('../output_data/fig2_lat_v_humidity.png')\n",
    "plt.show()"
   ]
  },
  {
   "cell_type": "markdown",
   "metadata": {},
   "source": [
    "Figure 2 shows the relationship between the humidity and latitude for the date specified.\n",
    "\n",
    "There is no clear relationship between latitude and humidity."
   ]
  },
  {
   "cell_type": "markdown",
   "metadata": {},
   "source": [
    "## Fig 3. Latitude vs. Cloudiness Plot"
   ]
  },
  {
   "cell_type": "code",
   "execution_count": null,
   "metadata": {},
   "outputs": [],
   "source": [
    "x = df_clean['Latitude']\n",
    "y = df_clean['Cloudiness']\n",
    "plt.title(f\"City Latitude vs. Cloudiness ({timestampstr})\")\n",
    "plt.xlabel(\"Latitude\")\n",
    "plt.ylabel(\"Cloudiness (%)\")\n",
    "plt.grid()\n",
    "plt.scatter(x,y,edgecolor=\"black\")\n",
    "plt.savefig('../output_data/fig3_lat_v_cloudiness.png')\n",
    "plt.show()"
   ]
  },
  {
   "cell_type": "markdown",
   "metadata": {},
   "source": [
    "Figure 3 shows the relationship between the cloudiness and latitude for the date specified.\n",
    "\n",
    "There is no clear relationship between latitude and cloudiness."
   ]
  },
  {
   "cell_type": "markdown",
   "metadata": {},
   "source": [
    "## Fig 4. Latitude vs Wind Speed Plot"
   ]
  },
  {
   "cell_type": "code",
   "execution_count": null,
   "metadata": {},
   "outputs": [],
   "source": [
    "x = df_clean['Latitude']\n",
    "y = df_clean['Wind_Speed']\n",
    "plt.title(f\"City Latitude vs. Wind Speed ({timestampstr})\")\n",
    "plt.xlabel(\"Latitude\")\n",
    "plt.ylabel(\"Wind Speed (mph)\")\n",
    "plt.grid()\n",
    "plt.scatter(x,y,edgecolor=\"black\")\n",
    "plt.savefig('../output_data/fig4_lat_v_windspeed.png')\n",
    "plt.show()"
   ]
  },
  {
   "cell_type": "markdown",
   "metadata": {},
   "source": [
    "Figure 4 shows the relationship between the wind speed and latitude for the date specified.\n",
    "\n",
    "There is a very weak inverse correlation in wind speed vs latitude and max temperature vs latitude.  For example, the latitudes where max temperature is currently highest appear to have lower windspeed in general than latitudes at the extremes such as near the poles.  However, this inverse correlation appears to be very weak."
   ]
  },
  {
   "cell_type": "markdown",
   "metadata": {},
   "source": [
    "## Linear Regression"
   ]
  },
  {
   "cell_type": "code",
   "execution_count": null,
   "metadata": {},
   "outputs": [],
   "source": [
    "# Divide data between northern and southern hemispheres\n",
    "n_hem = df_clean[(df_clean.Latitude > 0)]\n",
    "s_hem = df_clean[(df_clean.Latitude < 0)]"
   ]
  },
  {
   "cell_type": "markdown",
   "metadata": {},
   "source": [
    "####  Fig 5. Northern Hemisphere - Max Temp vs. Latitude Linear Regression"
   ]
  },
  {
   "cell_type": "code",
   "execution_count": null,
   "metadata": {},
   "outputs": [],
   "source": [
    "x = n_hem['Latitude']\n",
    "y = n_hem['Max_Temp']\n",
    "(slope, intercept, rvalue, pvalue, stderr) = linregress(x, y)\n",
    "line = x * slope + intercept\n",
    "plt.plot(x,line,'r',\n",
    "         label='y = {:.2f}x + {:.2f}\\n   $r^2$ = {:.2f}'.format(slope,intercept,rvalue))\n",
    "plt.title(f\"Northern Hemisphere Latitude vs. Max Temperature ({timestampstr})\")\n",
    "plt.xlabel(\"Latitude\")\n",
    "plt.ylabel(\"Max Temperature (F)\")\n",
    "plt.legend(fontsize=12)\n",
    "plt.grid()\n",
    "plt.scatter(x,y,edgecolor=\"black\")\n",
    "plt.savefig('../output_data/fig5_n_hem_lat_v_temp.png')\n",
    "plt.show()"
   ]
  },
  {
   "cell_type": "markdown",
   "metadata": {},
   "source": [
    "####  Fig 6. Southern Hemisphere - Max Temp vs. Latitude Linear Regression"
   ]
  },
  {
   "cell_type": "code",
   "execution_count": null,
   "metadata": {},
   "outputs": [],
   "source": [
    "x = s_hem['Latitude']\n",
    "y = s_hem['Max_Temp']\n",
    "(slope, intercept, rvalue, pvalue, stderr) = linregress(x, y)\n",
    "line = x * slope + intercept\n",
    "plt.plot(x,line,'r',\n",
    "         label='y = {:.2f}x + {:.2f}\\n   $r^2$ = {:.2f}'.format(slope,intercept,rvalue))\n",
    "plt.title(f\"Southern Hemisphere Latitude vs. Max Temperature ({timestampstr})\")\n",
    "plt.xlabel(\"Latitude\")\n",
    "plt.ylabel(\"Max Temperature (F)\")\n",
    "plt.legend(fontsize=12)\n",
    "plt.grid()\n",
    "plt.scatter(x,y,edgecolor=\"black\")\n",
    "plt.savefig('../output_data/fig6_s_hem_lat_v_temp.png')\n",
    "plt.show()"
   ]
  },
  {
   "cell_type": "markdown",
   "metadata": {},
   "source": [
    "In Figures 5 and 6, we look at the relationship between max temperature vs latitude for both the northern and southern hemispheres, respectively.\n",
    "\n",
    "As is evidenced by the data through the linear regression r squared values of greater than or equal to 70, there is a strong correlation between latitudes that are closer to the zero latitude line and higher max temperatures.\n",
    "\n",
    "As of this date, 8/27/2021, it can be seen that the r squared value of the southern hemisphere has a greater value than that of the northern hemisphere.  This is most probably due to the summer solstice in the northern hemisphere which causes higher temperatures to occur at slightly higher than the zero latitude line."
   ]
  },
  {
   "cell_type": "markdown",
   "metadata": {},
   "source": [
    "####  Fig 7. Northern Hemisphere - Humidity (%) vs. Latitude Linear Regression"
   ]
  },
  {
   "cell_type": "code",
   "execution_count": null,
   "metadata": {},
   "outputs": [],
   "source": [
    "x = n_hem['Latitude']\n",
    "y = n_hem['Humidity']\n",
    "(slope, intercept, rvalue, pvalue, stderr) = linregress(x, y)\n",
    "line = x * slope + intercept\n",
    "plt.plot(x,line,'r',\n",
    "         label='y = {:.2f}x + {:.2f}\\n   $r^2$ = {:.2f}'.format(slope,intercept,rvalue))\n",
    "plt.title(f\"Northern Hemisphere Latitude vs. Humidity ({timestampstr})\")\n",
    "plt.xlabel(\"Latitude\")\n",
    "plt.ylabel(\"Humidity (%)\")\n",
    "plt.legend(fontsize=12)\n",
    "plt.grid()\n",
    "plt.scatter(x,y,edgecolor=\"black\")\n",
    "plt.savefig('../output_data/fig7_n_hem_lat_v_humidity.png')\n",
    "plt.show()"
   ]
  },
  {
   "cell_type": "markdown",
   "metadata": {},
   "source": [
    "####  Fig 8. Southern Hemisphere - Humidity (%) vs. Latitude Linear Regression"
   ]
  },
  {
   "cell_type": "code",
   "execution_count": null,
   "metadata": {},
   "outputs": [],
   "source": [
    "x = s_hem['Latitude']\n",
    "y = s_hem['Humidity']\n",
    "(slope, intercept, rvalue, pvalue, stderr) = linregress(x, y)\n",
    "line = x * slope + intercept\n",
    "plt.plot(x,line,'r',\n",
    "         label='y = {:.2f}x + {:.2f}\\n   $r^2$ = {:.2f}'.format(slope,intercept,rvalue))\n",
    "plt.title(f\"Southern Hemisphere Latitude vs. Humidity ({timestampstr})\")\n",
    "plt.xlabel(\"Latitude\")\n",
    "plt.ylabel(\"Humidity (%)\")\n",
    "plt.legend(fontsize=12)\n",
    "plt.grid()\n",
    "plt.scatter(x,y,edgecolor=\"black\")\n",
    "plt.savefig('../output_data/fig8_s_hem_lat_v_humidity.png')\n",
    "plt.show()"
   ]
  },
  {
   "cell_type": "markdown",
   "metadata": {},
   "source": [
    "In Figures 7 and 8, we look at the relationship between humidity vs latitude for both the northern and southern hemispheres, respectively.\n",
    "\n",
    "As is evidenced by the data through the linear regression r squared values of close to zero, there is little to no correlation between humidity and latitude."
   ]
  },
  {
   "cell_type": "markdown",
   "metadata": {},
   "source": [
    "####  Fig 9. Northern Hemisphere - Cloudiness (%) vs. Latitude Linear Regression"
   ]
  },
  {
   "cell_type": "code",
   "execution_count": null,
   "metadata": {},
   "outputs": [],
   "source": [
    "x = n_hem['Latitude']\n",
    "y = n_hem['Cloudiness']\n",
    "(slope, intercept, rvalue, pvalue, stderr) = linregress(x, y)\n",
    "line = x * slope + intercept\n",
    "plt.plot(x,line,'r',\n",
    "         label='y = {:.2f}x + {:.2f}\\n   $r^2$ = {:.2f}'.format(slope,intercept,rvalue))\n",
    "plt.title(f\"Northern Hemisphere Latitude vs. Cloudiness ({timestampstr})\")\n",
    "plt.xlabel(\"Latitude\")\n",
    "plt.ylabel(\"Cloudiness (%)\")\n",
    "plt.legend(fontsize=12)\n",
    "plt.grid()\n",
    "plt.scatter(x,y,edgecolor=\"black\")\n",
    "plt.savefig('../output_data/fig9_n_hem_lat_v_cloudiness.png')\n",
    "plt.show()"
   ]
  },
  {
   "cell_type": "markdown",
   "metadata": {},
   "source": [
    "####  Fig 10. Southern Hemisphere - Cloudiness (%) vs. Latitude Linear Regression"
   ]
  },
  {
   "cell_type": "code",
   "execution_count": null,
   "metadata": {},
   "outputs": [],
   "source": [
    "x = s_hem['Latitude']\n",
    "y = s_hem['Cloudiness']\n",
    "(slope, intercept, rvalue, pvalue, stderr) = linregress(x, y)\n",
    "line = x * slope + intercept\n",
    "plt.plot(x,line,'r',\n",
    "         label='y = {:.2f}x + {:.2f}\\n   $r^2$ = {:.2f}'.format(slope,intercept,rvalue))\n",
    "plt.title(f\"Southern Hemisphere Latitude vs. Cloudiness ({timestampstr})\")\n",
    "plt.xlabel(\"Latitude\")\n",
    "plt.ylabel(\"Cloudiness (%)\")\n",
    "plt.legend(fontsize=12)\n",
    "plt.grid()\n",
    "plt.scatter(x,y,edgecolor=\"black\")\n",
    "plt.savefig('../output_data/fig10_s_hem_lat_v_cloudiness.png')\n",
    "plt.show()"
   ]
  },
  {
   "cell_type": "markdown",
   "metadata": {},
   "source": [
    "In Figures 9 and 10, we look at the relationship between cloudiness vs latitude for both the northern and southern hemispheres, respectively.\n",
    "\n",
    "As is evidenced by the data through the linear regression r squared values of close to zero, there is little to no correlation between humidity and latitude.\n",
    "\n",
    "However, it should also be noted that on this particular day 8/27/2021, the data is more polarized, showing many datapoints at the extremes of either close to zero or close to 100 for both the northern and southern hemispheres with less datapoints at the midline of around 40 to 60% cloudiness."
   ]
  },
  {
   "cell_type": "markdown",
   "metadata": {},
   "source": [
    "####  Fig 11. Northern Hemisphere - Wind Speed (mph) vs. Latitude Linear Regression"
   ]
  },
  {
   "cell_type": "code",
   "execution_count": null,
   "metadata": {},
   "outputs": [],
   "source": [
    "x = n_hem['Latitude']\n",
    "y = n_hem['Wind_Speed']\n",
    "(slope, intercept, rvalue, pvalue, stderr) = linregress(x, y)\n",
    "line = x * slope + intercept\n",
    "plt.plot(x,line,'r',\n",
    "         label='y = {:.2f}x + {:.2f}\\n   $r^2$ = {:.2f}'.format(slope,intercept,rvalue))\n",
    "plt.title(f\"Northern Hemisphere Latitude vs. Wind Speed ({timestampstr})\")\n",
    "plt.xlabel(\"Latitude\")\n",
    "plt.ylabel(\"Wind Speed (mph)\")\n",
    "plt.legend(fontsize=12)\n",
    "plt.grid()\n",
    "plt.scatter(x,y,edgecolor=\"black\")\n",
    "plt.savefig('../output_data/fig11_n_hem_lat_v_windspeed.png')\n",
    "plt.show()"
   ]
  },
  {
   "cell_type": "markdown",
   "metadata": {},
   "source": [
    "####  Fig 12. Southern Hemisphere - Wind Speed (mph) vs. Latitude Linear Regression"
   ]
  },
  {
   "cell_type": "code",
   "execution_count": null,
   "metadata": {},
   "outputs": [],
   "source": [
    "x = s_hem['Latitude']\n",
    "y = s_hem['Wind_Speed']\n",
    "(slope, intercept, rvalue, pvalue, stderr) = linregress(x, y)\n",
    "line = x * slope + intercept\n",
    "plt.plot(x,line,'r',\n",
    "         label='y = {:.2f}x + {:.2f}\\n   $r^2$ = {:.2f}'.format(slope,intercept,rvalue))\n",
    "plt.title(f\"Southern Hemisphere Latitude vs. Wind Speed ({timestampstr})\")\n",
    "plt.xlabel(\"Latitude\")\n",
    "plt.ylabel(\"Wind Speed (mph)\")\n",
    "plt.legend(fontsize=12)\n",
    "plt.grid()\n",
    "plt.scatter(x,y,edgecolor=\"black\")\n",
    "plt.savefig('../output_data/fig12_s_hem_lat_v_windspeed.png')\n",
    "plt.show()"
   ]
  },
  {
   "cell_type": "markdown",
   "metadata": {},
   "source": [
    "In Figures 11 and 12, we look at the relationship between wind speed vs latitude for both the northern and southern hemispheres, respectively.\n",
    "\n",
    "As is evidenced by the data through the linear regression r squared values of close to zero, there is little to no correlation between wind speed and latitude."
   ]
  }
 ],
 "metadata": {
  "anaconda-cloud": {},
  "kernel_info": {
   "name": "python3"
  },
  "kernelspec": {
   "display_name": "Python [conda env:PythonData]",
   "language": "python",
   "name": "conda-env-PythonData-py"
  },
  "language_info": {
   "codemirror_mode": {
    "name": "ipython",
    "version": 3
   },
   "file_extension": ".py",
   "mimetype": "text/x-python",
   "name": "python",
   "nbconvert_exporter": "python",
   "pygments_lexer": "ipython3",
   "version": "3.6.13"
  },
  "latex_envs": {
   "LaTeX_envs_menu_present": true,
   "autoclose": false,
   "autocomplete": true,
   "bibliofile": "biblio.bib",
   "cite_by": "apalike",
   "current_citInitial": 1,
   "eqLabelWithNumbers": true,
   "eqNumInitial": 1,
   "hotkeys": {
    "equation": "Ctrl-E",
    "itemize": "Ctrl-I"
   },
   "labels_anchors": false,
   "latex_user_defs": false,
   "report_style_numbering": false,
   "user_envs_cfg": false
  },
  "nteract": {
   "version": "0.12.3"
  }
 },
 "nbformat": 4,
 "nbformat_minor": 2
}
